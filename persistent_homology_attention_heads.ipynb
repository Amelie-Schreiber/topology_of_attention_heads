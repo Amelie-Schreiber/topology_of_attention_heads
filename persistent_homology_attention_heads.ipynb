{
 "cells": [
  {
   "attachments": {},
   "cell_type": "markdown",
   "metadata": {},
   "source": [
    "# Topology of Transformer Models\n",
    "## Persistent Homology of Attention Heads"
   ]
  },
  {
   "attachments": {},
   "cell_type": "markdown",
   "metadata": {},
   "source": [
    "We compute the distance between two heads as, \n",
    "\n",
    "\\begin{equation}\n",
    "D(H_i, H_j) = \\sum_{\\text{token} \\in \\text{input\\_data}} JS(H_i(token), H_j(token))\n",
    "\\end{equation}\n",
    "\n",
    "where $JS$ denotes the Jensen-Shannon divergence. To ensure that the given function is a true distance metric, we need to modify it to satisfy the properties of a distance metric. A distance metric must satisfy the following conditions:\n",
    "\n",
    "1. Non-negativity: $D(H_i, H_j) \\geq 0$\n",
    "2. Identity of indiscernibles: $D(H_i, H_j) = 0$ if and only if $H_i = H_j$\n",
    "3. Symmetry: $D(H_i, H_j) = D(H_j, H_i)$\n",
    "4. Triangle inequality: $D(H_i, H_j) + D(H_j, H_k) \\geq D(H_i, H_k)$\n",
    "\n",
    "Since the Jensen-Shannon divergence is already non-negative, symmetric, and always zero when comparing identical distributions, the only property we need to address is the triangle inequality. Note, we create a genuine distance metric in order to perform a persistent homology analysis, which requires a distance metric. We can achieve this by using the square root of Jensen-Shannon divergence as our distance metric, which is known as Jensen-Shannon distance (JSD). The modified distance metric would then be:\n",
    "\n",
    "\\begin{equation}\n",
    "D(H_i, H_j) = \\sum_{\\text{token} \\in \\text{input\\_data}} \\sqrt{ JS(H_i(\\text{token}), H_j(\\text{token}))}.\n",
    "\\end{equation}\n",
    "\n",
    "Now, the given function should satisfy all the properties of a true distance metric. Once we have this distance matrix in hand, giving the distances between each pair of heads in the model, we can compute the persistent homology and plot the barcode diagram. We do this for Bert, then GPT-2 individually. Then we do this for both at the same time and compute the bottleneck distance between their barcode diagrams. This is based on the analysis in $\\S 6$ on \"Clustering Attention Heads\" of the article [What Does BERT Look At? An Analysis of BERT’s Attention](https://arxiv.org/abs/1906.04341). In this article the question of \"Are attention heads in the same layer similar to each other or different? Can attention heads be clearly grouped by behavior? We investigate these\n",
    "questions by computing the distances between all pairs of attention heads.\" \n",
    "\n",
    "It is stated there, \"We find that there are several clear clusters of heads that be have similarly, often corresponding to behaviors we have already discussed in this paper. Heads within the same layer are often fairly close to each other, meaning that heads within the layer have similar attention distributions. This finding is a bit surprising given that [Multi-Head Attention with Disagreement Regularization](https://arxiv.org/abs/1810.10183) shows that encouraging attention heads to have different behaviors can improve Transformer performance at machine translation. One possibility for the apparent redundancy in BERT’s attention heads is the use of attention dropout, which causes some attention weights to be zeroed-out during training.\" From this, we may gather that persistent topological features are in fact detrimental to the performance of the model. In which case we should discourage them during training. In other words, the information theoretic Jensen-Shannon distance should be encouraged to be largers between specific attention heads that form clusters or higher dimensional topological featurs. \n",
    "\n",
    "The bottleneck distance from persistent homology allows us to tell the model to increase the pairwise distances $D(H_i, H_j)$ without specifying how to change each $\\sqrt{ JS(H_i(\\text{token}), H_j(\\text{token}))}$, meaning there is flexibility in how the individual attention weights of a single head might be distributed, so long as the overall pairwise distances $D(H_i, H_j)$ are increased. By promoting larger Jensen-Shannon distances between specific attention heads that form clusters or higher-dimensional topological features, we enable the model to increase pairwise distances $D(H_i, H_j)$ without dictating the distribution of individual attention weights of a single head, thereby retaining flexibility in the distribution of attention weights while enhancing overall performance. It is important to note that this is an alternated way on encouraging the model to had heads behave differently than the three methods presented in [Multi-Head Attention with Disagreement Regularization](https://arxiv.org/abs/1810.10183). "
   ]
  },
  {
   "cell_type": "code",
   "execution_count": 1,
   "metadata": {},
   "outputs": [
    {
     "name": "stdout",
     "output_type": "stream",
     "text": [
      "\u001b[33mWARNING: Ignoring invalid distribution -atplotlib (/Users/amelieschreiber/anaconda3/lib/python3.10/site-packages)\u001b[0m\u001b[33m\n",
      "\u001b[0m\u001b[33mWARNING: Ignoring invalid distribution -atplotlib (/Users/amelieschreiber/anaconda3/lib/python3.10/site-packages)\u001b[0m\u001b[33m\n",
      "\u001b[0m\u001b[33mWARNING: Ignoring invalid distribution -atplotlib (/Users/amelieschreiber/anaconda3/lib/python3.10/site-packages)\u001b[0m\u001b[33m\n",
      "\u001b[0m\u001b[33mWARNING: Ignoring invalid distribution -atplotlib (/Users/amelieschreiber/anaconda3/lib/python3.10/site-packages)\u001b[0m\u001b[33m\n",
      "\u001b[0m\u001b[33mWARNING: Ignoring invalid distribution -atplotlib (/Users/amelieschreiber/anaconda3/lib/python3.10/site-packages)\u001b[0m\u001b[33m\n",
      "\u001b[0m\u001b[33mWARNING: Ignoring invalid distribution -atplotlib (/Users/amelieschreiber/anaconda3/lib/python3.10/site-packages)\u001b[0m\u001b[33m\n",
      "\u001b[0mNote: you may need to restart the kernel to use updated packages.\n"
     ]
    }
   ],
   "source": [
    "pip install numpy torch transformers gudhi networkx scipy plotly ipywidgets -q"
   ]
  },
  {
   "cell_type": "code",
   "execution_count": 2,
   "metadata": {},
   "outputs": [
    {
     "name": "stderr",
     "output_type": "stream",
     "text": [
      "Some weights of the model checkpoint at bert-base-uncased were not used when initializing BertModel: ['cls.predictions.bias', 'cls.predictions.decoder.weight', 'cls.predictions.transform.dense.weight', 'cls.predictions.transform.LayerNorm.weight', 'cls.predictions.transform.LayerNorm.bias', 'cls.predictions.transform.dense.bias', 'cls.seq_relationship.bias', 'cls.seq_relationship.weight']\n",
      "- This IS expected if you are initializing BertModel from the checkpoint of a model trained on another task or with another architecture (e.g. initializing a BertForSequenceClassification model from a BertForPreTraining model).\n",
      "- This IS NOT expected if you are initializing BertModel from the checkpoint of a model that you expect to be exactly identical (initializing a BertForSequenceClassification model from a BertForSequenceClassification model).\n"
     ]
    },
    {
     "name": "stdout",
     "output_type": "stream",
     "text": [
      "tensor([[[0.0000, 2.9036, 3.6939,  ..., 2.7101, 3.9613, 3.3373],\n",
      "         [2.9036, 0.0000, 3.8505,  ..., 3.3878, 3.8944, 3.2137],\n",
      "         [3.6939, 3.8505, 0.0000,  ..., 3.7885, 4.1424, 3.4333],\n",
      "         ...,\n",
      "         [2.7101, 3.3878, 3.7885,  ..., 0.0000, 4.4913, 2.8837],\n",
      "         [3.9613, 3.8944, 4.1424,  ..., 4.4913, 0.0000, 3.1264],\n",
      "         [3.3373, 3.2137, 3.4333,  ..., 2.8837, 3.1264, 0.0000]],\n",
      "\n",
      "        [[0.0000, 2.8963, 2.6987,  ..., 2.4124, 2.9581, 2.8915],\n",
      "         [2.8963, 0.0000, 2.9051,  ..., 3.3288, 2.9527, 3.5461],\n",
      "         [2.6987, 2.9051, 0.0000,  ..., 2.6115, 2.0569, 3.4727],\n",
      "         ...,\n",
      "         [2.4124, 3.3288, 2.6115,  ..., 0.0000, 2.7227, 2.8624],\n",
      "         [2.9581, 2.9527, 2.0569,  ..., 2.7227, 0.0000, 3.1597],\n",
      "         [2.8915, 3.5461, 3.4727,  ..., 2.8624, 3.1597, 0.0000]],\n",
      "\n",
      "        [[0.0000, 4.6471, 4.8262,  ..., 0.3603, 5.0283, 4.6528],\n",
      "         [4.6471, 0.0000, 1.8615,  ..., 4.5179, 2.3104, 2.5003],\n",
      "         [4.8262, 1.8615, 0.0000,  ..., 4.7978, 2.2949, 2.4293],\n",
      "         ...,\n",
      "         [0.3603, 4.5179, 4.7978,  ..., 0.0000, 4.8470, 4.8084],\n",
      "         [5.0283, 2.3104, 2.2949,  ..., 4.8470, 0.0000, 2.8218],\n",
      "         [4.6528, 2.5003, 2.4293,  ..., 4.8084, 2.8218, 0.0000]],\n",
      "\n",
      "        ...,\n",
      "\n",
      "        [[0.0000, 2.3369, 2.4107,  ..., 1.7866, 2.6770, 2.6877],\n",
      "         [2.3369, 0.0000, 2.0455,  ..., 1.6842, 2.0187, 1.9618],\n",
      "         [2.4107, 2.0455, 0.0000,  ..., 2.1475, 2.1364, 2.1726],\n",
      "         ...,\n",
      "         [1.7866, 1.6842, 2.1475,  ..., 0.0000, 2.8922, 2.5572],\n",
      "         [2.6770, 2.0187, 2.1364,  ..., 2.8922, 0.0000, 1.6254],\n",
      "         [2.6877, 1.9618, 2.1726,  ..., 2.5572, 1.6254, 0.0000]],\n",
      "\n",
      "        [[0.0000, 2.9386, 2.2588,  ..., 2.8418, 3.3829, 2.9029],\n",
      "         [2.9386, 0.0000, 2.2252,  ..., 1.5460, 3.9504, 2.6404],\n",
      "         [2.2588, 2.2252, 0.0000,  ..., 2.4882, 3.8711, 2.4579],\n",
      "         ...,\n",
      "         [2.8418, 1.5460, 2.4882,  ..., 0.0000, 3.8647, 3.0079],\n",
      "         [3.3829, 3.9504, 3.8711,  ..., 3.8647, 0.0000, 4.2871],\n",
      "         [2.9029, 2.6404, 2.4579,  ..., 3.0079, 4.2871, 0.0000]],\n",
      "\n",
      "        [[0.0000, 1.0317, 3.2686,  ..., 3.2009, 1.2872, 1.0007],\n",
      "         [1.0317, 0.0000, 3.0847,  ..., 2.8469, 0.9683, 1.2428],\n",
      "         [3.2686, 3.0847, 0.0000,  ..., 1.2662, 2.9144, 3.5389],\n",
      "         ...,\n",
      "         [3.2009, 2.8469, 1.2662,  ..., 0.0000, 2.7005, 3.4702],\n",
      "         [1.2872, 0.9683, 2.9144,  ..., 2.7005, 0.0000, 1.3605],\n",
      "         [1.0007, 1.2428, 3.5389,  ..., 3.4702, 1.3605, 0.0000]]])\n"
     ]
    }
   ],
   "source": [
    "import torch\n",
    "from transformers import BertTokenizer, BertModel\n",
    "from scipy.spatial.distance import jensenshannon\n",
    "\n",
    "# Load the BERT model and tokenizer\n",
    "tokenizer = BertTokenizer.from_pretrained(\"bert-base-uncased\")\n",
    "model = BertModel.from_pretrained(\"bert-base-uncased\", output_attentions=True)\n",
    "\n",
    "# Prepare the input data\n",
    "input_text = \"Quantum information theory is interesting.\"\n",
    "input_ids = tokenizer.encode(input_text, return_tensors=\"pt\")\n",
    "\n",
    "# Get the attention matrices\n",
    "with torch.no_grad():\n",
    "    outputs = model(input_ids)\n",
    "    attentions = outputs[-1]\n",
    "\n",
    "# Calculate the pairwise Jensen-Shannon distance\n",
    "num_layers = len(attentions)\n",
    "num_heads = attentions[0].shape[1]\n",
    "\n",
    "distances = torch.zeros((num_layers, num_heads, num_heads))\n",
    "\n",
    "for layer_idx, layer_attentions in enumerate(attentions):\n",
    "    for head_i in range(num_heads):\n",
    "        for head_j in range(head_i, num_heads):\n",
    "            tokens_js_distances = [\n",
    "                jensenshannon(\n",
    "                    layer_attentions[0, head_i, token].numpy(),\n",
    "                    layer_attentions[0, head_j, token].numpy(),\n",
    "                )\n",
    "                for token in range(input_ids.shape[1])\n",
    "            ]\n",
    "            distance = sum(tokens_js_distances)\n",
    "            distances[layer_idx, head_i, head_j] = distance\n",
    "            distances[layer_idx, head_j, head_i] = distance\n",
    "\n",
    "# Print the distance matrix\n",
    "print(distances)\n"
   ]
  },
  {
   "cell_type": "code",
   "execution_count": 11,
   "metadata": {},
   "outputs": [
    {
     "data": {
      "text/plain": [
       "<Figure size 640x480 with 0 Axes>"
      ]
     },
     "metadata": {},
     "output_type": "display_data"
    },
    {
     "data": {
      "image/png": "[encoded data removed]",
      "text/plain": [
       "<Figure size 640x480 with 1 Axes>"
      ]
     },
     "metadata": {},
     "output_type": "display_data"
    }
   ],
   "source": [
    "import gudhi as gd\n",
    "import numpy as np\n",
    "import matplotlib.pyplot as plt\n",
    "\n",
    "# Flatten the distance tensor to 2D (summing across all layers)\n",
    "flat_distances = distances.sum(dim=0).numpy()\n",
    "\n",
    "# Compute the Rips complex\n",
    "rips_complex = gd.RipsComplex(distance_matrix=flat_distances, max_edge_length=np.inf)\n",
    "\n",
    "# Compute the simplex tree\n",
    "simplex_tree = rips_complex.create_simplex_tree(max_dimension=2)\n",
    "\n",
    "# Compute the persistence diagram\n",
    "persistence_diagram = simplex_tree.persistence()\n",
    "\n",
    "# Plot the barcode diagram\n",
    "plt.figure()\n",
    "gd.plot_persistence_barcode(persistence=persistence_diagram)\n",
    "plt.title(\"Barcode Diagram\")\n",
    "plt.show()\n"
   ]
  },
  {
   "cell_type": "code",
   "execution_count": 12,
   "metadata": {},
   "outputs": [
    {
     "name": "stdout",
     "output_type": "stream",
     "text": [
      "tensor([[[0.0000, 4.5110, 1.1804,  ..., 1.2408, 1.7750, 1.1544],\n",
      "         [4.5110, 0.0000, 4.0747,  ..., 4.0066, 3.2373, 3.9290],\n",
      "         [1.1804, 4.0747, 0.0000,  ..., 0.4985, 1.2266, 1.0105],\n",
      "         ...,\n",
      "         [1.2408, 4.0066, 0.4985,  ..., 0.0000, 1.0513, 1.0436],\n",
      "         [1.7750, 3.2373, 1.2266,  ..., 1.0513, 0.0000, 1.1241],\n",
      "         [1.1544, 3.9290, 1.0105,  ..., 1.0436, 1.1241, 0.0000]],\n",
      "\n",
      "        [[0.0000, 1.0196, 0.9089,  ..., 1.4444, 3.0945, 2.7294],\n",
      "         [1.0196, 0.0000, 0.5684,  ..., 0.9232, 3.1902, 2.6768],\n",
      "         [0.9089, 0.5684, 0.0000,  ..., 1.0421, 3.1594, 2.6112],\n",
      "         ...,\n",
      "         [1.4444, 0.9232, 1.0421,  ..., 0.0000, 3.6793, 3.0656],\n",
      "         [3.0945, 3.1902, 3.1594,  ..., 3.6793, 0.0000, 2.8364],\n",
      "         [2.7294, 2.6768, 2.6112,  ..., 3.0656, 2.8364, 0.0000]],\n",
      "\n",
      "        [[0.0000, 1.0576, 1.7275,  ..., 1.8072, 1.2734, 0.8740],\n",
      "         [1.0576, 0.0000, 2.3138,  ..., 2.4735, 1.8560, 0.8292],\n",
      "         [1.7275, 2.3138, 0.0000,  ..., 1.5069, 1.5614, 1.9841],\n",
      "         ...,\n",
      "         [1.8072, 2.4735, 1.5069,  ..., 0.0000, 1.4896, 2.1028],\n",
      "         [1.2734, 1.8560, 1.5614,  ..., 1.4896, 0.0000, 1.1693],\n",
      "         [0.8740, 0.8292, 1.9841,  ..., 2.1028, 1.1693, 0.0000]],\n",
      "\n",
      "        ...,\n",
      "\n",
      "        [[0.0000, 1.6716, 0.9767,  ..., 1.5740, 1.2434, 1.9054],\n",
      "         [1.6716, 0.0000, 1.0760,  ..., 0.3653, 1.2033, 0.4356],\n",
      "         [0.9767, 1.0760, 0.0000,  ..., 0.9700, 1.0145, 1.3000],\n",
      "         ...,\n",
      "         [1.5740, 0.3653, 0.9700,  ..., 0.0000, 1.2905, 0.4653],\n",
      "         [1.2434, 1.2033, 1.0145,  ..., 1.2905, 0.0000, 1.4979],\n",
      "         [1.9054, 0.4356, 1.3000,  ..., 0.4653, 1.4979, 0.0000]],\n",
      "\n",
      "        [[0.0000, 0.7651, 0.8852,  ..., 1.3412, 0.7612, 1.1217],\n",
      "         [0.7651, 0.0000, 0.3694,  ..., 1.3421, 0.2322, 1.1443],\n",
      "         [0.8852, 0.3694, 0.0000,  ..., 1.3531, 0.3694, 1.1313],\n",
      "         ...,\n",
      "         [1.3412, 1.3421, 1.3531,  ..., 0.0000, 1.4056, 1.0254],\n",
      "         [0.7612, 0.2322, 0.3694,  ..., 1.4056, 0.0000, 1.2110],\n",
      "         [1.1217, 1.1443, 1.1313,  ..., 1.0254, 1.2110, 0.0000]],\n",
      "\n",
      "        [[0.0000, 2.4609, 2.3669,  ..., 2.4033, 1.5195, 1.6440],\n",
      "         [2.4609, 0.0000, 0.4798,  ..., 0.5639, 1.1190, 1.0477],\n",
      "         [2.3669, 0.4798, 0.0000,  ..., 0.5981, 1.0928, 1.0829],\n",
      "         ...,\n",
      "         [2.4033, 0.5639, 0.5981,  ..., 0.0000, 1.1782, 0.9586],\n",
      "         [1.5195, 1.1190, 1.0928,  ..., 1.1782, 0.0000, 0.8775],\n",
      "         [1.6440, 1.0477, 1.0829,  ..., 0.9586, 0.8775, 0.0000]]])\n"
     ]
    }
   ],
   "source": [
    "import torch\n",
    "from transformers import GPT2Tokenizer, GPT2Model\n",
    "from scipy.spatial.distance import jensenshannon\n",
    "\n",
    "# Load the GPT-2 model and tokenizer\n",
    "tokenizer = GPT2Tokenizer.from_pretrained(\"gpt2\")\n",
    "model = GPT2Model.from_pretrained(\"gpt2\", output_attentions=True)\n",
    "\n",
    "# Prepare the input data\n",
    "input_text = \"Quantum information theory is interesting.\"\n",
    "input_ids = tokenizer.encode(input_text, return_tensors=\"pt\")\n",
    "\n",
    "# Get the attention matrices\n",
    "with torch.no_grad():\n",
    "    outputs = model(input_ids)\n",
    "    attentions = outputs[-1]\n",
    "\n",
    "# Calculate the pairwise Jensen-Shannon divergence\n",
    "num_layers = len(attentions)\n",
    "num_heads = attentions[0].shape[1]\n",
    "\n",
    "distances = torch.zeros((num_layers, num_heads, num_heads))\n",
    "\n",
    "for layer_idx, layer_attentions in enumerate(attentions):\n",
    "    for head_i in range(num_heads):\n",
    "        for head_j in range(head_i, num_heads):\n",
    "            tokens_js_divergences = [\n",
    "                jensenshannon(\n",
    "                    layer_attentions[0, head_i, token].numpy(),\n",
    "                    layer_attentions[0, head_j, token].numpy(),\n",
    "                )\n",
    "                for token in range(input_ids.shape[1])\n",
    "            ]\n",
    "            distance = sum(tokens_js_divergences)\n",
    "            distances[layer_idx, head_i, head_j] = distance\n",
    "            distances[layer_idx, head_j, head_i] = distance\n",
    "\n",
    "# Print the distance matrix\n",
    "print(distances)\n"
   ]
  },
  {
   "cell_type": "code",
   "execution_count": 13,
   "metadata": {},
   "outputs": [
    {
     "data": {
      "text/plain": [
       "<Figure size 640x480 with 0 Axes>"
      ]
     },
     "metadata": {},
     "output_type": "display_data"
    },
    {
     "data": {
      "image/png": "[encoded data removed]",
      "text/plain": [
       "<Figure size 640x480 with 1 Axes>"
      ]
     },
     "metadata": {},
     "output_type": "display_data"
    }
   ],
   "source": [
    "import gudhi as gd\n",
    "import numpy as np\n",
    "import matplotlib.pyplot as plt\n",
    "\n",
    "# Flatten the distance tensor to 2D (summing across all layers)\n",
    "flat_distances = distances.sum(dim=0).numpy()\n",
    "\n",
    "# Compute the Rips complex\n",
    "rips_complex = gd.RipsComplex(distance_matrix=flat_distances, max_edge_length=np.inf)\n",
    "\n",
    "# Compute the simplex tree\n",
    "simplex_tree = rips_complex.create_simplex_tree(max_dimension=2)\n",
    "\n",
    "# Compute the persistence diagram\n",
    "persistence_diagram = simplex_tree.persistence()\n",
    "\n",
    "# Plot the barcode diagram\n",
    "plt.figure()\n",
    "gd.plot_persistence_barcode(persistence=persistence_diagram)\n",
    "plt.title(\"Barcode Diagram\")\n",
    "plt.show()\n"
   ]
  },
  {
   "cell_type": "code",
   "execution_count": null,
   "metadata": {},
   "outputs": [
    {
     "name": "stderr",
     "output_type": "stream",
     "text": [
      "Some weights of the model checkpoint at bert-base-uncased were not used when initializing BertModel: ['cls.predictions.bias', 'cls.predictions.decoder.weight', 'cls.predictions.transform.dense.weight', 'cls.predictions.transform.LayerNorm.weight', 'cls.predictions.transform.LayerNorm.bias', 'cls.predictions.transform.dense.bias', 'cls.seq_relationship.bias', 'cls.seq_relationship.weight']\n",
      "- This IS expected if you are initializing BertModel from the checkpoint of a model trained on another task or with another architecture (e.g. initializing a BertForSequenceClassification model from a BertForPreTraining model).\n",
      "- This IS NOT expected if you are initializing BertModel from the checkpoint of a model that you expect to be exactly identical (initializing a BertForSequenceClassification model from a BertForSequenceClassification model).\n"
     ]
    },
    {
     "data": {
      "application/vnd.jupyter.widget-view+json": {
       "model_id": "812a5d47bfe2414aa7bee4ac8dd8c23a",
       "version_major": 2,
       "version_minor": 0
      },
      "text/plain": [
       "Text(value='Quantum information theory is interesting and can provide insights into other areas of research', …"
      ]
     },
     "metadata": {},
     "output_type": "display_data"
    },
    {
     "data": {
      "application/vnd.jupyter.widget-view+json": {
       "model_id": "a973e5a1f25a45fcb77ae4ea93be35a7",
       "version_major": 2,
       "version_minor": 0
      },
      "text/plain": [
       "Button(description='Submit', style=ButtonStyle())"
      ]
     },
     "metadata": {},
     "output_type": "display_data"
    },
    {
     "data": {
      "text/plain": [
       "<Figure size 640x480 with 0 Axes>"
      ]
     },
     "metadata": {},
     "output_type": "display_data"
    },
    {
     "data": {
      "image/png": "[encoded data removed]",
      "text/plain": [
       "<Figure size 640x480 with 1 Axes>"
      ]
     },
     "metadata": {},
     "output_type": "display_data"
    },
    {
     "data": {
      "text/plain": [
       "<Figure size 640x480 with 0 Axes>"
      ]
     },
     "metadata": {},
     "output_type": "display_data"
    },
    {
     "data": {
      "image/png": "[encoded data removed]",
      "text/plain": [
       "<Figure size 640x480 with 1 Axes>"
      ]
     },
     "metadata": {},
     "output_type": "display_data"
    },
    {
     "name": "stdout",
     "output_type": "stream",
     "text": [
      "Bottleneck distance: 30.976749420166016\n"
     ]
    }
   ],
   "source": [
    "import torch\n",
    "from transformers import BertTokenizer, BertModel, GPT2Tokenizer, GPT2Model\n",
    "from scipy.spatial.distance import jensenshannon\n",
    "import gudhi as gd\n",
    "import numpy as np\n",
    "import matplotlib.pyplot as plt\n",
    "from ipywidgets import widgets\n",
    "\n",
    "def get_js_distance_matrix(model, tokenizer, input_text):\n",
    "    input_ids = tokenizer.encode(input_text, return_tensors=\"pt\")\n",
    "    with torch.no_grad():\n",
    "        outputs = model(input_ids)\n",
    "        attentions = outputs[-1]\n",
    "\n",
    "    num_layers = len(attentions)\n",
    "    num_heads = attentions[0].shape[1]\n",
    "    distances = torch.zeros((num_layers, num_heads, num_heads))\n",
    "\n",
    "    for layer_idx, layer_attentions in enumerate(attentions):\n",
    "        for head_i in range(num_heads):\n",
    "            for head_j in range(head_i, num_heads):\n",
    "                tokens_js_divergences = [\n",
    "                    jensenshannon(\n",
    "                        layer_attentions[0, head_i, token].numpy(),\n",
    "                        layer_attentions[0, head_j, token].numpy(),\n",
    "                    )\n",
    "                    for token in range(input_ids.shape[1])\n",
    "                ]\n",
    "                distance = sum(tokens_js_divergences)\n",
    "                distances[layer_idx, head_i, head_j] = distance\n",
    "                distances[layer_idx, head_j, head_i] = distance\n",
    "\n",
    "    return distances\n",
    "\n",
    "def convert_diagram_to_numpy_array(diagram):\n",
    "    diagram_np = []\n",
    "    for point in diagram:\n",
    "        if point[1][1] == float('inf'):\n",
    "            continue\n",
    "        diagram_np.append([point[1][0], point[1][1]])\n",
    "    return np.array(diagram_np)\n",
    "\n",
    "def plot_barcode_and_bottleneck(pd1, pd2):\n",
    "    plt.figure()\n",
    "    gd.plot_persistence_barcode(persistence=pd1)\n",
    "    plt.title(\"BERT Barcode Diagram\")\n",
    "    plt.show()\n",
    "\n",
    "    plt.figure()\n",
    "    gd.plot_persistence_barcode(persistence=pd2)\n",
    "    plt.title(\"GPT-2 Barcode Diagram\")\n",
    "    plt.show()\n",
    "\n",
    "    # Convert diagrams to NumPy arrays\n",
    "    pd1_np = convert_diagram_to_numpy_array(pd1)\n",
    "    pd2_np = convert_diagram_to_numpy_array(pd2)\n",
    "\n",
    "    # Calculate bottleneck distance\n",
    "    bottleneck_distance = gd.bottleneck_distance(pd1_np, pd2_np)\n",
    "    print(f\"Bottleneck distance: {bottleneck_distance}\")\n",
    "\n",
    "def on_submit_button_clicked(button):\n",
    "    input_text = input_text_widget.value\n",
    "\n",
    "    bert_distances = get_js_distance_matrix(bert_model, bert_tokenizer, input_text)\n",
    "    gpt2_distances = get_js_distance_matrix(gpt2_model, gpt2_tokenizer, input_text)\n",
    "\n",
    "    bert_flat_distances = bert_distances.sum(dim=0).numpy()\n",
    "    gpt2_flat_distances = gpt2_distances.sum(dim=0).numpy()\n",
    "\n",
    "    bert_rips_complex = gd.RipsComplex(distance_matrix=bert_flat_distances, max_edge_length=np.inf)\n",
    "    gpt2_rips_complex = gd.RipsComplex(distance_matrix=gpt2_flat_distances, max_edge_length=np.inf)\n",
    "\n",
    "    bert_simplex_tree = bert_rips_complex.create_simplex_tree(max_dimension=2)\n",
    "    gpt2_simplex_tree = gpt2_rips_complex.create_simplex_tree(max_dimension=2)\n",
    "\n",
    "    bert_persistence_diagram = bert_simplex_tree.persistence()\n",
    "    gpt2_persistence_diagram = gpt2_simplex_tree.persistence()\n",
    "\n",
    "    plot_barcode_and_bottleneck(bert_persistence_diagram, gpt2_persistence_diagram)\n",
    "\n",
    "# Load the models and tokenizers\n",
    "bert_tokenizer = BertTokenizer.from_pretrained(\"bert-base-uncased\")\n",
    "bert_model = BertModel.from_pretrained(\"bert-base-uncased\", output_attentions=True)\n",
    "gpt2_tokenizer = GPT2Tokenizer.from_pretrained(\"gpt2\")\n",
    "gpt2_model = GPT2Model.from_pretrained(\"gpt2\", output_attentions=True)\n",
    "\n",
    "# Create the input text widget and submit button\n",
    "input_text_widget = widgets.Text(\n",
    "    value=\"Quantum information theory is interesting and can provide insights into other areas of research\",\n",
    "    placeholder=\"Enter some text...\",\n",
    "    description=\"Input Text:\",\n",
    "    disabled=False,\n",
    ")\n",
    "\n",
    "submit_button = widgets.Button(description=\"Submit\")\n",
    "submit_button.on_click(on_submit_button_clicked)\n",
    "\n",
    "# Display the input text widget and submit button\n",
    "display(input_text_widget)\n",
    "display(submit_button)\n"
   ]
  },
  {
   "cell_type": "code",
   "execution_count": null,
   "metadata": {},
   "outputs": [],
   "source": []
  }
 ],
 "metadata": {
  "kernelspec": {
   "display_name": "base",
   "language": "python",
   "name": "python3"
  },
  "language_info": {
   "codemirror_mode": {
    "name": "ipython",
    "version": 3
   },
   "file_extension": ".py",
   "mimetype": "text/x-python",
   "name": "python",
   "nbconvert_exporter": "python",
   "pygments_lexer": "ipython3",
   "version": "3.10.9"
  },
  "orig_nbformat": 4
 },
 "nbformat": 4,
 "nbformat_minor": 2
}
